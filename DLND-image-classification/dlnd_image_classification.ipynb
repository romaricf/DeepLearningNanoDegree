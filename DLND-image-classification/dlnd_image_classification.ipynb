{
 "cells": [
  {
   "cell_type": "markdown",
   "metadata": {
    "collapsed": true
   },
   "source": [
    "# Image Classification\n",
    "In this project, you'll classify images from the [CIFAR-10 dataset](https://www.cs.toronto.edu/~kriz/cifar.html).  The dataset consists of airplanes, dogs, cats, and other objects. You'll preprocess the images, then train a convolutional neural network on all the samples. The images need to be normalized and the labels need to be one-hot encoded.  You'll get to apply what you learned and build a convolutional, max pooling, dropout, and fully connected layers.  At the end, you'll get to see your neural network's predictions on the sample images.\n",
    "## Get the Data\n",
    "Run the following cell to download the [CIFAR-10 dataset for python](https://www.cs.toronto.edu/~kriz/cifar-10-python.tar.gz)."
   ]
  },
  {
   "cell_type": "code",
   "execution_count": 220,
   "metadata": {
    "collapsed": false
   },
   "outputs": [
    {
     "name": "stdout",
     "output_type": "stream",
     "text": [
      "All files found!\n"
     ]
    }
   ],
   "source": [
    "\"\"\"\n",
    "DON'T MODIFY ANYTHING IN THIS CELL THAT IS BELOW THIS LINE\n",
    "\"\"\"\n",
    "from urllib.request import urlretrieve\n",
    "from os.path import isfile, isdir\n",
    "from tqdm import tqdm\n",
    "import problem_unittests as tests\n",
    "import tarfile\n",
    "\n",
    "cifar10_dataset_folder_path = 'cifar-10-batches-py'\n",
    "\n",
    "class DLProgress(tqdm):\n",
    "    last_block = 0\n",
    "\n",
    "    def hook(self, block_num=1, block_size=1, total_size=None):\n",
    "        self.total = total_size\n",
    "        self.update((block_num - self.last_block) * block_size)\n",
    "        self.last_block = block_num\n",
    "\n",
    "if not isfile('cifar-10-python.tar.gz'):\n",
    "    with DLProgress(unit='B', unit_scale=True, miniters=1, desc='CIFAR-10 Dataset') as pbar:\n",
    "        urlretrieve(\n",
    "            'https://www.cs.toronto.edu/~kriz/cifar-10-python.tar.gz',\n",
    "            'cifar-10-python.tar.gz',\n",
    "            pbar.hook)\n",
    "\n",
    "if not isdir(cifar10_dataset_folder_path):\n",
    "    with tarfile.open('cifar-10-python.tar.gz') as tar:\n",
    "        tar.extractall()\n",
    "        tar.close()\n",
    "\n",
    "\n",
    "tests.test_folder_path(cifar10_dataset_folder_path)"
   ]
  },
  {
   "cell_type": "markdown",
   "metadata": {},
   "source": [
    "## Explore the Data\n",
    "The dataset is broken into batches to prevent your machine from running out of memory.  The CIFAR-10 dataset consists of 5 batches, named `data_batch_1`, `data_batch_2`, etc.. Each batch contains the labels and images that are one of the following:\n",
    "* airplane\n",
    "* automobile\n",
    "* bird\n",
    "* cat\n",
    "* deer\n",
    "* dog\n",
    "* frog\n",
    "* horse\n",
    "* ship\n",
    "* truck\n",
    "\n",
    "Understanding a dataset is part of making predictions on the data.  Play around with the code cell below by changing the `batch_id` and `sample_id`. The `batch_id` is the id for a batch (1-5). The `sample_id` is the id for a image and label pair in the batch.\n",
    "\n",
    "Ask yourself \"What are all possible labels?\", \"What is the range of values for the image data?\", \"Are the labels in order or random?\".  Answers to questions like these will help you preprocess the data and end up with better predictions."
   ]
  },
  {
   "cell_type": "code",
   "execution_count": 221,
   "metadata": {
    "collapsed": false
   },
   "outputs": [
    {
     "name": "stdout",
     "output_type": "stream",
     "text": [
      "\n",
      "Stats of batch 1:\n",
      "Samples: 10000\n",
      "Label Counts: {0: 1005, 1: 974, 2: 1032, 3: 1016, 4: 999, 5: 937, 6: 1030, 7: 1001, 8: 1025, 9: 981}\n",
      "First 20 Labels: [6, 9, 9, 4, 1, 1, 2, 7, 8, 3, 4, 7, 7, 2, 9, 9, 9, 3, 2, 6]\n",
      "\n",
      "Example of Image 0:\n",
      "Image - Min Value: 0 Max Value: 255\n",
      "Image - Shape: (32, 32, 3)\n",
      "Label - Label Id: 6 Name: frog\n"
     ]
    },
    {
     "data": {
      "image/png": "[encoded data removed]",
      "text/plain": [
       "<matplotlib.figure.Figure at 0x21303b59240>"
      ]
     },
     "metadata": {
      "image/png": {
       "height": 250,
       "width": 253
      }
     },
     "output_type": "display_data"
    }
   ],
   "source": [
    "%matplotlib inline\n",
    "%config InlineBackend.figure_format = 'retina'\n",
    "\n",
    "import helper\n",
    "import numpy as np\n",
    "\n",
    "# Explore the dataset\n",
    "batch_id = 1\n",
    "sample_id = 0\n",
    "helper.display_stats(cifar10_dataset_folder_path, batch_id, sample_id)"
   ]
  },
  {
   "cell_type": "markdown",
   "metadata": {},
   "source": [
    "## Implement Preprocess Functions\n",
    "### Normalize\n",
    "In the cell below, implement the `normalize` function to take in image data, `x`, and return it as a normalized Numpy array. The values should be in the range of 0 to 1, inclusive.  The return object should be the same shape as `x`."
   ]
  },
  {
   "cell_type": "code",
   "execution_count": 222,
   "metadata": {
    "collapsed": false
   },
   "outputs": [
    {
     "name": "stdout",
     "output_type": "stream",
     "text": [
      "Tests Passed\n"
     ]
    }
   ],
   "source": [
    "def normalize(x):\n",
    "    \"\"\"\n",
    "    Normalize a list of sample image data in the range of 0 to 1\n",
    "    : x: List of image data.  The image shape is (32, 32, 3)\n",
    "    : return: Numpy array of normalize data\n",
    "    \"\"\"\n",
    "    r = np.array(x)\n",
    "    r = r / 255\n",
    "    return r\n",
    "\n",
    "\n",
    "\"\"\"\n",
    "DON'T MODIFY ANYTHING IN THIS CELL THAT IS BELOW THIS LINE\n",
    "\"\"\"\n",
    "tests.test_normalize(normalize)"
   ]
  },
  {
   "cell_type": "markdown",
   "metadata": {},
   "source": [
    "### One-hot encode\n",
    "Just like the previous code cell, you'll be implementing a function for preprocessing.  This time, you'll implement the `one_hot_encode` function. The input, `x`, are a list of labels.  Implement the function to return the list of labels as One-Hot encoded Numpy array.  The possible values for labels are 0 to 9. The one-hot encoding function should return the same encoding for each value between each call to `one_hot_encode`.  Make sure to save the map of encodings outside the function.\n",
    "\n",
    "Hint: Don't reinvent the wheel."
   ]
  },
  {
   "cell_type": "code",
   "execution_count": 225,
   "metadata": {
    "collapsed": false
   },
   "outputs": [
    {
     "name": "stdout",
     "output_type": "stream",
     "text": [
      "Tests Passed\n"
     ]
    }
   ],
   "source": [
    "labels_count = 10\n",
    "\n",
    "def one_hot_encode(x):\n",
    "    \"\"\"\n",
    "    One hot encode a list of sample labels. Return a one-hot encoded vector for each label.\n",
    "    : x: List of sample Labels\n",
    "    : return: Numpy array of one-hot encoded labels\n",
    "    \"\"\"\n",
    "    # TODO: Implement Function\n",
    "    r = np.zeros((len(x), labels_count))\n",
    "    for i,l in enumerate(x):\n",
    "        r[i,l]=1    \n",
    "    return r\n",
    "\n",
    "\"\"\"\n",
    "DON'T MODIFY ANYTHING IN THIS CELL THAT IS BELOW THIS LINE\n",
    "\"\"\"\n",
    "tests.test_one_hot_encode(one_hot_encode)"
   ]
  },
  {
   "cell_type": "markdown",
   "metadata": {},
   "source": [
    "### Randomize Data\n",
    "As you saw from exploring the data above, the order of the samples are randomized.  It doesn't hurt to randomize it again, but you don't need to for this dataset."
   ]
  },
  {
   "cell_type": "markdown",
   "metadata": {},
   "source": [
    "## Preprocess all the data and save it\n",
    "Running the code cell below will preprocess all the CIFAR-10 data and save it to file. The code below also uses 10% of the training data for validation."
   ]
  },
  {
   "cell_type": "code",
   "execution_count": 226,
   "metadata": {
    "collapsed": false
   },
   "outputs": [],
   "source": [
    "\"\"\"\n",
    "DON'T MODIFY ANYTHING IN THIS CELL\n",
    "\"\"\"\n",
    "# Preprocess Training, Validation, and Testing Data\n",
    "helper.preprocess_and_save_data(cifar10_dataset_folder_path, normalize, one_hot_encode)"
   ]
  },
  {
   "cell_type": "markdown",
   "metadata": {},
   "source": [
    "# Check Point\n",
    "This is your first checkpoint.  If you ever decide to come back to this notebook or have to restart the notebook, you can start from here.  The preprocessed data has been saved to disk."
   ]
  },
  {
   "cell_type": "code",
   "execution_count": 228,
   "metadata": {
    "collapsed": false
   },
   "outputs": [],
   "source": [
    "\"\"\"\n",
    "DON'T MODIFY ANYTHING IN THIS CELL\n",
    "\"\"\"\n",
    "import pickle\n",
    "import problem_unittests as tests\n",
    "import helper\n",
    "\n",
    "# Load the Preprocessed Validation data\n",
    "valid_features, valid_labels = pickle.load(open('preprocess_validation.p', mode='rb'))\n"
   ]
  },
  {
   "cell_type": "markdown",
   "metadata": {},
   "source": [
    "## Build the network\n",
    "For the neural network, you'll build each layer into a function.  Most of the code you've seen has been outside of functions. To test your code more thoroughly, we require that you put each layer in a function.  This allows us to give you better feedback and test for simple mistakes using our unittests before you submit your project.\n",
    "\n",
    ">**Note:** If you're finding it hard to dedicate enough time for this course each week, we've provided a small shortcut to this part of the project. In the next couple of problems, you'll have the option to use classes from the [TensorFlow Layers](https://www.tensorflow.org/api_docs/python/tf/layers) or [TensorFlow Layers (contrib)](https://www.tensorflow.org/api_guides/python/contrib.layers) packages to build each layer, except the layers you build in the \"Convolutional and Max Pooling Layer\" section.  TF Layers is similar to Keras's and TFLearn's abstraction to layers, so it's easy to pickup.\n",
    "\n",
    ">However, if you would like to get the most out of this course, try to solve all the problems _without_ using anything from the TF Layers packages. You **can** still use classes from other packages that happen to have the same name as ones you find in TF Layers! For example, instead of using the TF Layers version of the `conv2d` class, [tf.layers.conv2d](https://www.tensorflow.org/api_docs/python/tf/layers/conv2d), you would want to use the TF Neural Network version of `conv2d`, [tf.nn.conv2d](https://www.tensorflow.org/api_docs/python/tf/nn/conv2d). \n",
    "\n",
    "Let's begin!\n",
    "\n",
    "### Input\n",
    "The neural network needs to read the image data, one-hot encoded labels, and dropout keep probability. Implement the following functions\n",
    "* Implement `neural_net_image_input`\n",
    " * Return a [TF Placeholder](https://www.tensorflow.org/api_docs/python/tf/placeholder)\n",
    " * Set the shape using `image_shape` with batch size set to `None`.\n",
    " * Name the TensorFlow placeholder \"x\" using the TensorFlow `name` parameter in the [TF Placeholder](https://www.tensorflow.org/api_docs/python/tf/placeholder).\n",
    "* Implement `neural_net_label_input`\n",
    " * Return a [TF Placeholder](https://www.tensorflow.org/api_docs/python/tf/placeholder)\n",
    " * Set the shape using `n_classes` with batch size set to `None`.\n",
    " * Name the TensorFlow placeholder \"y\" using the TensorFlow `name` parameter in the [TF Placeholder](https://www.tensorflow.org/api_docs/python/tf/placeholder).\n",
    "* Implement `neural_net_keep_prob_input`\n",
    " * Return a [TF Placeholder](https://www.tensorflow.org/api_docs/python/tf/placeholder) for dropout keep probability.\n",
    " * Name the TensorFlow placeholder \"keep_prob\" using the TensorFlow `name` parameter in the [TF Placeholder](https://www.tensorflow.org/api_docs/python/tf/placeholder).\n",
    "\n",
    "These names will be used at the end of the project to load your saved model.\n",
    "\n",
    "Note: `None` for shapes in TensorFlow allow for a dynamic size."
   ]
  },
  {
   "cell_type": "code",
   "execution_count": 229,
   "metadata": {
    "collapsed": false
   },
   "outputs": [
    {
     "name": "stdout",
     "output_type": "stream",
     "text": [
      "Image Input Tests Passed.\n",
      "Label Input Tests Passed.\n",
      "Keep Prob Tests Passed.\n"
     ]
    }
   ],
   "source": [
    "import tensorflow as tf\n",
    "\n",
    "def neural_net_image_input(image_shape):\n",
    "    \"\"\"\n",
    "    Return a Tensor for a bach of image input\n",
    "    : image_shape: Shape of the images\n",
    "    : return: Tensor for image input.\n",
    "    \"\"\"\n",
    "    x = tf.placeholder(tf.float32,\n",
    "        shape=[None, image_shape[0], image_shape[1], image_shape[2]], name='x')\n",
    "    return x\n",
    "\n",
    "\n",
    "def neural_net_label_input(n_classes):\n",
    "    \"\"\"\n",
    "    Return a Tensor for a batch of label input\n",
    "    : n_classes: Number of classes\n",
    "    : return: Tensor for label input.\n",
    "    \"\"\"\n",
    "    y = tf.placeholder(tf.float32,\n",
    "        shape=[None, n_classes], name='y')\n",
    "    return y\n",
    "\n",
    "\n",
    "def neural_net_keep_prob_input():\n",
    "    \"\"\"\n",
    "    Return a Tensor for keep probability\n",
    "    : return: Tensor for keep probability.\n",
    "    \"\"\"\n",
    "    k = tf.placeholder(tf.float32, name='keep_prob')\n",
    "    return k\n",
    "\n",
    "\n",
    "\"\"\"\n",
    "DON'T MODIFY ANYTHING IN THIS CELL THAT IS BELOW THIS LINE\n",
    "\"\"\"\n",
    "tf.reset_default_graph()\n",
    "tests.test_nn_image_inputs(neural_net_image_input)\n",
    "tests.test_nn_label_inputs(neural_net_label_input)\n",
    "tests.test_nn_keep_prob_inputs(neural_net_keep_prob_input)"
   ]
  },
  {
   "cell_type": "markdown",
   "metadata": {},
   "source": [
    "### Convolution and Max Pooling Layer\n",
    "Convolution layers have a lot of success with images. For this code cell, you should implement the function `conv2d_maxpool` to apply convolution then max pooling:\n",
    "* Create the weight and bias using `conv_ksize`, `conv_num_outputs` and the shape of `x_tensor`.\n",
    "* Apply a convolution to `x_tensor` using weight and `conv_strides`.\n",
    " * We recommend you use same padding, but you're welcome to use any padding.\n",
    "* Add bias\n",
    "* Add a nonlinear activation to the convolution.\n",
    "* Apply Max Pooling using `pool_ksize` and `pool_strides`.\n",
    " * We recommend you use same padding, but you're welcome to use any padding.\n",
    "\n",
    "**Note:** You **can't** use [TensorFlow Layers](https://www.tensorflow.org/api_docs/python/tf/layers) or [TensorFlow Layers (contrib)](https://www.tensorflow.org/api_guides/python/contrib.layers) for **this** layer, but you can still use TensorFlow's [Neural Network](https://www.tensorflow.org/api_docs/python/tf/nn) package. You may still use the shortcut option for all the **other** layers."
   ]
  },
  {
   "cell_type": "code",
   "execution_count": 230,
   "metadata": {
    "collapsed": false
   },
   "outputs": [
    {
     "name": "stdout",
     "output_type": "stream",
     "text": [
      "Tests Passed\n"
     ]
    }
   ],
   "source": [
    "def conv2d_maxpool(x_tensor, conv_num_outputs, conv_ksize, conv_strides, pool_ksize, pool_strides):\n",
    "    \"\"\"\n",
    "    Apply convolution then max pooling to x_tensor\n",
    "    :param x_tensor: TensorFlow Tensor\n",
    "    :param conv_num_outputs: Number of outputs for the convolutional layer\n",
    "    :param conv_ksize: kernal size 2-D Tuple for the convolutional layer\n",
    "    :param conv_strides: Stride 2-D Tuple for convolution\n",
    "    :param pool_ksize: kernal size 2-D Tuple for pool\n",
    "    :param pool_strides: Stride 2-D Tuple for pool\n",
    "    : return: A tensor that represents convolution and max pooling of x_tensor\n",
    "    \"\"\"\n",
    "    \n",
    "    #v = tf.contrib.layers.conv2d(inputs=x_tensor, num_outputs=conv_num_outputs, \n",
    "    #                            kernel_size=conv_ksize, stride=conv_strides, padding='SAME',\n",
    "    #                            biases_initializer=0, activation_fn=tf.nn.relu)\n",
    "    #v = tf.contrib.layers.max_pool2d(v,kernel_size=pool_ksize,stride=pool_strides,padding='SAME')\n",
    "    #return v\n",
    "    \n",
    "    weights = tf.Variable(tf.truncated_normal([conv_ksize[0], conv_ksize[1], x_tensor.get_shape().as_list()[-1], conv_num_outputs]\n",
    "                                             ,mean=0.0, stddev=0.1))\n",
    "    bias = tf.Variable(tf.zeros(conv_num_outputs))\n",
    "    \n",
    "    # Convolution\n",
    "    x = tf.nn.conv2d(x_tensor, weights, strides=[1, conv_strides[0], conv_strides[1], 1], padding='SAME')\n",
    "    x = tf.nn.bias_add(x, bias)\n",
    "    x = tf.nn.relu(x)\n",
    "    \n",
    "    # Pooling\n",
    "    x = tf.nn.max_pool(x, ksize=[1, pool_ksize[0], pool_ksize[1], 1], \n",
    "                       strides=[1, pool_strides[0], pool_strides[1], 1], \n",
    "                       padding='SAME')\n",
    "    return x\n",
    "\n",
    "\n",
    "\"\"\"\n",
    "DON'T MODIFY ANYTHING IN THIS CELL THAT IS BELOW THIS LINE\n",
    "\"\"\"\n",
    "tests.test_con_pool(conv2d_maxpool)"
   ]
  },
  {
   "cell_type": "markdown",
   "metadata": {},
   "source": [
    "### Flatten Layer\n",
    "Implement the `flatten` function to change the dimension of `x_tensor` from a 4-D tensor to a 2-D tensor.  The output should be the shape (*Batch Size*, *Flattened Image Size*). Shortcut option: you can use classes from the [TensorFlow Layers](https://www.tensorflow.org/api_docs/python/tf/layers) or [TensorFlow Layers (contrib)](https://www.tensorflow.org/api_guides/python/contrib.layers) packages for this layer. For more of a challenge, only use other TensorFlow packages."
   ]
  },
  {
   "cell_type": "code",
   "execution_count": 231,
   "metadata": {
    "collapsed": false
   },
   "outputs": [
    {
     "name": "stdout",
     "output_type": "stream",
     "text": [
      "Tests Passed\n"
     ]
    }
   ],
   "source": [
    "def flatten(x_tensor):\n",
    "    \"\"\"\n",
    "    Flatten x_tensor to (Batch Size, Flattened Image Size)\n",
    "    : x_tensor: A tensor of size (Batch Size, ...), where ... are the image dimensions.\n",
    "    : return: A tensor of size (Batch Size, Flattened Image Size).\n",
    "    \"\"\"\n",
    "    \n",
    "    return tf.contrib.layers.flatten(inputs=x_tensor)\n",
    "    \n",
    "    \"\"\"shape = x_tensor.get_shape().as_list()\n",
    "    size = shape[1] * shape[2] * shape[3]\n",
    "    x_flat = tf.reshape(x_tensor, [-1, size])\n",
    "    return x_flat\"\"\"\n",
    "\n",
    "\n",
    "\"\"\"\n",
    "DON'T MODIFY ANYTHING IN THIS CELL THAT IS BELOW THIS LINE\n",
    "\"\"\"\n",
    "tests.test_flatten(flatten)"
   ]
  },
  {
   "cell_type": "markdown",
   "metadata": {},
   "source": [
    "### Fully-Connected Layer\n",
    "Implement the `fully_conn` function to apply a fully connected layer to `x_tensor` with the shape (*Batch Size*, *num_outputs*). Shortcut option: you can use classes from the [TensorFlow Layers](https://www.tensorflow.org/api_docs/python/tf/layers) or [TensorFlow Layers (contrib)](https://www.tensorflow.org/api_guides/python/contrib.layers) packages for this layer. For more of a challenge, only use other TensorFlow packages."
   ]
  },
  {
   "cell_type": "code",
   "execution_count": 232,
   "metadata": {
    "collapsed": false
   },
   "outputs": [
    {
     "name": "stdout",
     "output_type": "stream",
     "text": [
      "Tests Passed\n"
     ]
    }
   ],
   "source": [
    "from tensorflow.contrib import learn\n",
    "\n",
    "def fully_conn(x_tensor, num_outputs):\n",
    "    \"\"\"\n",
    "    Apply a fully connected layer to x_tensor using weight and bias\n",
    "    : x_tensor: A 2-D tensor where the first dimension is batch size.\n",
    "    : num_outputs: The number of output that the new tensor should be.\n",
    "    : return: A 2-D tensor where the second dimension is num_outputs.\n",
    "    \"\"\"\n",
    "    \n",
    "    \"\"\"\n",
    "    shape_input = x_tensor.get_shape().as_list()[1]\n",
    "    \n",
    "    w = tf.Variable(tf.random_normal([shape_input, num_outputs]))\n",
    "    b = tf.Variable(tf.zeros([num_outputs]))\n",
    "    \n",
    "    fc = tf.add(tf.matmul(x_tensor, w), b)\n",
    "    fc = tf.nn.relu(fc)\n",
    "    \"\"\"\n",
    "    dense = tf.layers.dense(inputs=x_tensor, units=num_outputs, activation=tf.nn.relu)\n",
    "    return dense\n",
    "\n",
    "\n",
    "\"\"\"\n",
    "DON'T MODIFY ANYTHING IN THIS CELL THAT IS BELOW THIS LINE\n",
    "\"\"\"\n",
    "tests.test_fully_conn(fully_conn)"
   ]
  },
  {
   "cell_type": "markdown",
   "metadata": {},
   "source": [
    "### Output Layer\n",
    "Implement the `output` function to apply a fully connected layer to `x_tensor` with the shape (*Batch Size*, *num_outputs*). Shortcut option: you can use classes from the [TensorFlow Layers](https://www.tensorflow.org/api_docs/python/tf/layers) or [TensorFlow Layers (contrib)](https://www.tensorflow.org/api_guides/python/contrib.layers) packages for this layer. For more of a challenge, only use other TensorFlow packages.\n",
    "\n",
    "**Note:** Activation, softmax, or cross entropy should **not** be applied to this."
   ]
  },
  {
   "cell_type": "code",
   "execution_count": 233,
   "metadata": {
    "collapsed": false
   },
   "outputs": [
    {
     "name": "stdout",
     "output_type": "stream",
     "text": [
      "Tests Passed\n"
     ]
    }
   ],
   "source": [
    "def output(x_tensor, num_outputs):\n",
    "    \"\"\"\n",
    "    Apply a output layer to x_tensor using weight and bias\n",
    "    : x_tensor: A 2-D tensor where the first dimension is batch size.\n",
    "    : num_outputs: The number of output that the new tensor should be.\n",
    "    : return: A 2-D tensor where the second dimension is num_outputs.\n",
    "    \"\"\"\n",
    "    \n",
    "    \"\"\"\n",
    "    shape_input = x_tensor.get_shape().as_list()[1]\n",
    "    \n",
    "    w = tf.Variable(tf.random_normal([shape_input, num_outputs]))\n",
    "    b = tf.Variable(tf.zeros([num_outputs]))\n",
    "    \n",
    "    fc = tf.add(tf.matmul(x_tensor, w), b)    \n",
    "    return fc\n",
    "    \"\"\"\n",
    "    dense = tf.layers.dense(inputs=x_tensor, units=num_outputs, activation=None)\n",
    "    return dense\n",
    "\n",
    "\n",
    "\"\"\"\n",
    "DON'T MODIFY ANYTHING IN THIS CELL THAT IS BELOW THIS LINE\n",
    "\"\"\"\n",
    "tests.test_output(output)"
   ]
  },
  {
   "cell_type": "markdown",
   "metadata": {},
   "source": [
    "### Create Convolutional Model\n",
    "Implement the function `conv_net` to create a convolutional neural network model. The function takes in a batch of images, `x`, and outputs logits.  Use the layers you created above to create this model:\n",
    "\n",
    "* Apply 1, 2, or 3 Convolution and Max Pool layers\n",
    "* Apply a Flatten Layer\n",
    "* Apply 1, 2, or 3 Fully Connected Layers\n",
    "* Apply an Output Layer\n",
    "* Return the output\n",
    "* Apply [TensorFlow's Dropout](https://www.tensorflow.org/api_docs/python/tf/nn/dropout) to one or more layers in the model using `keep_prob`. "
   ]
  },
  {
   "cell_type": "code",
   "execution_count": 274,
   "metadata": {
    "collapsed": false
   },
   "outputs": [
    {
     "name": "stdout",
     "output_type": "stream",
     "text": [
      "Neural Network Built!\n"
     ]
    }
   ],
   "source": [
    "def conv_net(x, keep_prob):\n",
    "    \"\"\"\n",
    "    Create a convolutional neural network model\n",
    "    : x: Placeholder tensor that holds image data.\n",
    "    : keep_prob: Placeholder tensor that hold dropout keep probability.\n",
    "    : return: Tensor that represents logits\n",
    "    \"\"\"\n",
    "    # TODO: Apply 1, 2, or 3 Convolution and Max Pool layers\n",
    "    #    Play around with different number of outputs, kernel size and stride\n",
    "    # Function Definition from Above:\n",
    "    #    conv2d_maxpool(x_tensor, conv_num_outputs, conv_ksize, conv_strides, pool_ksize, pool_strides)\n",
    "    \n",
    "    x = conv2d_maxpool(x, 40, (5,5), (2,2), (2,2), (2,2))\n",
    "    x = conv2d_maxpool(x, 20, (3,3), (2,2), (2,2), (1,1))\n",
    "    \n",
    "\n",
    "    # TODO: Apply a Flatten Layer\n",
    "    # Function Definition from Above:\n",
    "    #   flatten(x_tensor)\n",
    "    x = flatten(x)\n",
    "\n",
    "    # TODO: Apply 1, 2, or 3 Fully Connected Layers\n",
    "    #    Play around with different number of outputs\n",
    "    # Function Definition from Above:\n",
    "    #   fully_conn(x_tensor, num_outputs)\n",
    "    x = fully_conn(x, 100)\n",
    "    x = fully_conn(x, 25)\n",
    "    x = tf.nn.dropout(x, keep_prob, name=\"Dropout\")\n",
    "    \n",
    "    # TODO: Apply an Output Layer\n",
    "    #    Set this to the number of classes\n",
    "    # Function Definition from Above:\n",
    "    #   output(x_tensor, num_outputs)\n",
    "    x = output(x, 10)\n",
    "    \n",
    "    # TODO: return output\n",
    "    return x\n",
    "\n",
    "\n",
    "\"\"\"\n",
    "DON'T MODIFY ANYTHING IN THIS CELL THAT IS BELOW THIS LINE\n",
    "\"\"\"\n",
    "\n",
    "##############################\n",
    "## Build the Neural Network ##\n",
    "##############################\n",
    "\n",
    "# Remove previous weights, bias, inputs, etc..\n",
    "tf.reset_default_graph()\n",
    "\n",
    "# Inputs\n",
    "x = neural_net_image_input((32, 32, 3))\n",
    "y = neural_net_label_input(10)\n",
    "keep_prob = neural_net_keep_prob_input()\n",
    "\n",
    "# Model\n",
    "logits = conv_net(x, keep_prob)\n",
    "\n",
    "# Name logits Tensor, so that is can be loaded from disk after training\n",
    "logits = tf.identity(logits, name='logits')\n",
    "\n",
    "# Loss and Optimizer\n",
    "cost = tf.reduce_mean(tf.nn.softmax_cross_entropy_with_logits(logits=logits, labels=y))\n",
    "optimizer = tf.train.AdamOptimizer().minimize(cost)\n",
    "\n",
    "# Accuracy\n",
    "correct_pred = tf.equal(tf.argmax(logits, 1), tf.argmax(y, 1))\n",
    "accuracy = tf.reduce_mean(tf.cast(correct_pred, tf.float32), name='accuracy')\n",
    "\n",
    "tests.test_conv_net(conv_net)"
   ]
  },
  {
   "cell_type": "markdown",
   "metadata": {},
   "source": [
    "## Train the Neural Network\n",
    "### Single Optimization\n",
    "Implement the function `train_neural_network` to do a single optimization.  The optimization should use `optimizer` to optimize in `session` with a `feed_dict` of the following:\n",
    "* `x` for image input\n",
    "* `y` for labels\n",
    "* `keep_prob` for keep probability for dropout\n",
    "\n",
    "This function will be called for each batch, so `tf.global_variables_initializer()` has already been called.\n",
    "\n",
    "Note: Nothing needs to be returned. This function is only optimizing the neural network."
   ]
  },
  {
   "cell_type": "code",
   "execution_count": 275,
   "metadata": {
    "collapsed": false
   },
   "outputs": [
    {
     "name": "stdout",
     "output_type": "stream",
     "text": [
      "Tests Passed\n"
     ]
    }
   ],
   "source": [
    "def train_neural_network(session, optimizer, keep_probability, feature_batch, label_batch):\n",
    "    \"\"\"\n",
    "    Optimize the session on a batch of images and labels\n",
    "    : session: Current TensorFlow session\n",
    "    : optimizer: TensorFlow optimizer function\n",
    "    : keep_probability: keep probability\n",
    "    : feature_batch: Batch of Numpy image data\n",
    "    : label_batch: Batch of Numpy label data\n",
    "    \"\"\"\n",
    "    session.run(optimizer, feed_dict={\n",
    "                x: feature_batch,\n",
    "                y: label_batch,\n",
    "                keep_prob: keep_probability})\n",
    "\n",
    "\n",
    "\"\"\"\n",
    "DON'T MODIFY ANYTHING IN THIS CELL THAT IS BELOW THIS LINE\n",
    "\"\"\"\n",
    "tests.test_train_nn(train_neural_network)"
   ]
  },
  {
   "cell_type": "markdown",
   "metadata": {},
   "source": [
    "### Show Stats\n",
    "Implement the function `print_stats` to print loss and validation accuracy.  Use the global variables `valid_features` and `valid_labels` to calculate validation accuracy.  Use a keep probability of `1.0` to calculate the loss and validation accuracy."
   ]
  },
  {
   "cell_type": "code",
   "execution_count": 276,
   "metadata": {
    "collapsed": false
   },
   "outputs": [],
   "source": [
    "def print_stats(session, feature_batch, label_batch, cost, accuracy):\n",
    "    \"\"\"\n",
    "    Print information about loss and validation accuracy\n",
    "    : session: Current TensorFlow session\n",
    "    : feature_batch: Batch of Numpy image data\n",
    "    : label_batch: Batch of Numpy label data\n",
    "    : cost: TensorFlow cost function\n",
    "    : accuracy: TensorFlow accuracy function\n",
    "    \"\"\"\n",
    "    \n",
    "    # Calculate batch loss and accuracy\n",
    "    loss = sess.run(cost, feed_dict={\n",
    "        x: feature_batch,\n",
    "        y: label_batch,\n",
    "        keep_prob: 1.})\n",
    "    valid_acc = sess.run(accuracy, feed_dict={\n",
    "        x: valid_features,\n",
    "        y: valid_labels,\n",
    "        keep_prob: 1.})\n",
    "\n",
    "    print('Loss: {:>10.4f} Validation Accuracy: {:.6f}'.format(loss, valid_acc))"
   ]
  },
  {
   "cell_type": "markdown",
   "metadata": {},
   "source": [
    "### Hyperparameters\n",
    "Tune the following parameters:\n",
    "* Set `epochs` to the number of iterations until the network stops learning or start overfitting\n",
    "* Set `batch_size` to the highest number that your machine has memory for.  Most people set them to common sizes of memory:\n",
    " * 64\n",
    " * 128\n",
    " * 256\n",
    " * ...\n",
    "* Set `keep_probability` to the probability of keeping a node using dropout"
   ]
  },
  {
   "cell_type": "code",
   "execution_count": 277,
   "metadata": {
    "collapsed": true
   },
   "outputs": [],
   "source": [
    "# TODO: Tune Parameters\n",
    "epochs = 30\n",
    "batch_size = 128\n",
    "keep_probability = 0.8"
   ]
  },
  {
   "cell_type": "markdown",
   "metadata": {},
   "source": [
    "### Train on a Single CIFAR-10 Batch\n",
    "Instead of training the neural network on all the CIFAR-10 batches of data, let's use a single batch. This should save time while you iterate on the model to get a better accuracy.  Once the final validation accuracy is 50% or greater, run the model on all the data in the next section."
   ]
  },
  {
   "cell_type": "code",
   "execution_count": 278,
   "metadata": {
    "collapsed": false
   },
   "outputs": [
    {
     "name": "stdout",
     "output_type": "stream",
     "text": [
      "Checking the Training on a Single Batch...\n",
      "Epoch  1, CIFAR-10 Batch 1:  Loss:     2.2017 Validation Accuracy: 0.225800\n",
      "Epoch  2, CIFAR-10 Batch 1:  Loss:     2.0739 Validation Accuracy: 0.343400\n",
      "Epoch  3, CIFAR-10 Batch 1:  Loss:     2.0314 Validation Accuracy: 0.363000\n",
      "Epoch  4, CIFAR-10 Batch 1:  Loss:     1.9251 Validation Accuracy: 0.390000\n",
      "Epoch  5, CIFAR-10 Batch 1:  Loss:     1.8050 Validation Accuracy: 0.414600\n",
      "Epoch  6, CIFAR-10 Batch 1:  Loss:     1.7409 Validation Accuracy: 0.425200\n",
      "Epoch  7, CIFAR-10 Batch 1:  Loss:     1.6119 Validation Accuracy: 0.446600\n",
      "Epoch  8, CIFAR-10 Batch 1:  Loss:     1.5438 Validation Accuracy: 0.450800\n",
      "Epoch  9, CIFAR-10 Batch 1:  Loss:     1.4723 Validation Accuracy: 0.450400\n",
      "Epoch 10, CIFAR-10 Batch 1:  Loss:     1.3833 Validation Accuracy: 0.460600\n",
      "Epoch 11, CIFAR-10 Batch 1:  Loss:     1.2982 Validation Accuracy: 0.465400\n",
      "Epoch 12, CIFAR-10 Batch 1:  Loss:     1.2889 Validation Accuracy: 0.469200\n",
      "Epoch 13, CIFAR-10 Batch 1:  Loss:     1.2423 Validation Accuracy: 0.484200\n",
      "Epoch 14, CIFAR-10 Batch 1:  Loss:     1.1586 Validation Accuracy: 0.485800\n",
      "Epoch 15, CIFAR-10 Batch 1:  Loss:     1.1704 Validation Accuracy: 0.479600\n",
      "Epoch 16, CIFAR-10 Batch 1:  Loss:     1.0819 Validation Accuracy: 0.487000\n",
      "Epoch 17, CIFAR-10 Batch 1:  Loss:     1.0657 Validation Accuracy: 0.483200\n",
      "Epoch 18, CIFAR-10 Batch 1:  Loss:     0.9806 Validation Accuracy: 0.488200\n",
      "Epoch 19, CIFAR-10 Batch 1:  Loss:     0.9886 Validation Accuracy: 0.497600\n",
      "Epoch 20, CIFAR-10 Batch 1:  Loss:     0.9464 Validation Accuracy: 0.509800\n",
      "Epoch 21, CIFAR-10 Batch 1:  Loss:     0.9429 Validation Accuracy: 0.514400\n",
      "Epoch 22, CIFAR-10 Batch 1:  Loss:     0.8873 Validation Accuracy: 0.513200\n",
      "Epoch 23, CIFAR-10 Batch 1:  Loss:     0.8996 Validation Accuracy: 0.507400\n",
      "Epoch 24, CIFAR-10 Batch 1:  Loss:     0.8123 Validation Accuracy: 0.518800\n",
      "Epoch 25, CIFAR-10 Batch 1:  Loss:     0.8070 Validation Accuracy: 0.518000\n",
      "Epoch 26, CIFAR-10 Batch 1:  Loss:     0.8012 Validation Accuracy: 0.506000\n",
      "Epoch 27, CIFAR-10 Batch 1:  Loss:     0.7555 Validation Accuracy: 0.517400\n",
      "Epoch 28, CIFAR-10 Batch 1:  Loss:     0.7907 Validation Accuracy: 0.506000\n",
      "Epoch 29, CIFAR-10 Batch 1:  Loss:     0.7324 Validation Accuracy: 0.523600\n",
      "Epoch 30, CIFAR-10 Batch 1:  Loss:     0.7728 Validation Accuracy: 0.501400\n"
     ]
    }
   ],
   "source": [
    "\"\"\"\n",
    "DON'T MODIFY ANYTHING IN THIS CELL\n",
    "\"\"\"\n",
    "print('Checking the Training on a Single Batch...')\n",
    "with tf.Session() as sess:\n",
    "    # Initializing the variables\n",
    "    sess.run(tf.global_variables_initializer())\n",
    "    \n",
    "    # Training cycle\n",
    "    for epoch in range(epochs):\n",
    "        batch_i = 1\n",
    "        for batch_features, batch_labels in helper.load_preprocess_training_batch(batch_i, batch_size):\n",
    "            train_neural_network(sess, optimizer, keep_probability, batch_features, batch_labels)\n",
    "        print('Epoch {:>2}, CIFAR-10 Batch {}:  '.format(epoch + 1, batch_i), end='')\n",
    "        print_stats(sess, batch_features, batch_labels, cost, accuracy)"
   ]
  },
  {
   "cell_type": "markdown",
   "metadata": {},
   "source": [
    "### Fully Train the Model\n",
    "Now that you got a good accuracy with a single CIFAR-10 batch, try it with all five batches."
   ]
  },
  {
   "cell_type": "code",
   "execution_count": 279,
   "metadata": {
    "collapsed": false
   },
   "outputs": [
    {
     "name": "stdout",
     "output_type": "stream",
     "text": [
      "Training...\n",
      "Epoch  1, CIFAR-10 Batch 1:  Loss:     2.1577 Validation Accuracy: 0.253000\n",
      "Epoch  1, CIFAR-10 Batch 2:  Loss:     1.9614 Validation Accuracy: 0.331200\n",
      "Epoch  1, CIFAR-10 Batch 3:  Loss:     1.5711 Validation Accuracy: 0.365800\n",
      "Epoch  1, CIFAR-10 Batch 4:  Loss:     1.6244 Validation Accuracy: 0.390400\n",
      "Epoch  1, CIFAR-10 Batch 5:  Loss:     1.6632 Validation Accuracy: 0.411400\n",
      "Epoch  2, CIFAR-10 Batch 1:  Loss:     1.8844 Validation Accuracy: 0.427200\n",
      "Epoch  2, CIFAR-10 Batch 2:  Loss:     1.6291 Validation Accuracy: 0.414600\n",
      "Epoch  2, CIFAR-10 Batch 3:  Loss:     1.2782 Validation Accuracy: 0.446000\n",
      "Epoch  2, CIFAR-10 Batch 4:  Loss:     1.4629 Validation Accuracy: 0.458800\n",
      "Epoch  2, CIFAR-10 Batch 5:  Loss:     1.5361 Validation Accuracy: 0.464600\n",
      "Epoch  3, CIFAR-10 Batch 1:  Loss:     1.6283 Validation Accuracy: 0.488800\n",
      "Epoch  3, CIFAR-10 Batch 2:  Loss:     1.4599 Validation Accuracy: 0.483200\n",
      "Epoch  3, CIFAR-10 Batch 3:  Loss:     1.1667 Validation Accuracy: 0.477600\n",
      "Epoch  3, CIFAR-10 Batch 4:  Loss:     1.3867 Validation Accuracy: 0.496800\n",
      "Epoch  3, CIFAR-10 Batch 5:  Loss:     1.4253 Validation Accuracy: 0.500800\n",
      "Epoch  4, CIFAR-10 Batch 1:  Loss:     1.5718 Validation Accuracy: 0.503600\n",
      "Epoch  4, CIFAR-10 Batch 2:  Loss:     1.3290 Validation Accuracy: 0.514400\n",
      "Epoch  4, CIFAR-10 Batch 3:  Loss:     1.1005 Validation Accuracy: 0.505200\n",
      "Epoch  4, CIFAR-10 Batch 4:  Loss:     1.2957 Validation Accuracy: 0.521600\n",
      "Epoch  4, CIFAR-10 Batch 5:  Loss:     1.3127 Validation Accuracy: 0.504600\n",
      "Epoch  5, CIFAR-10 Batch 1:  Loss:     1.4565 Validation Accuracy: 0.517000\n",
      "Epoch  5, CIFAR-10 Batch 2:  Loss:     1.2615 Validation Accuracy: 0.533400\n",
      "Epoch  5, CIFAR-10 Batch 3:  Loss:     1.0701 Validation Accuracy: 0.504800\n",
      "Epoch  5, CIFAR-10 Batch 4:  Loss:     1.2272 Validation Accuracy: 0.537200\n",
      "Epoch  5, CIFAR-10 Batch 5:  Loss:     1.2064 Validation Accuracy: 0.528800\n",
      "Epoch  6, CIFAR-10 Batch 1:  Loss:     1.3762 Validation Accuracy: 0.537600\n",
      "Epoch  6, CIFAR-10 Batch 2:  Loss:     1.1862 Validation Accuracy: 0.550800\n",
      "Epoch  6, CIFAR-10 Batch 3:  Loss:     0.9872 Validation Accuracy: 0.535600\n",
      "Epoch  6, CIFAR-10 Batch 4:  Loss:     1.1403 Validation Accuracy: 0.545400\n",
      "Epoch  6, CIFAR-10 Batch 5:  Loss:     1.0976 Validation Accuracy: 0.545000\n",
      "Epoch  7, CIFAR-10 Batch 1:  Loss:     1.2913 Validation Accuracy: 0.546000\n",
      "Epoch  7, CIFAR-10 Batch 2:  Loss:     1.1238 Validation Accuracy: 0.557200\n",
      "Epoch  7, CIFAR-10 Batch 3:  Loss:     0.9263 Validation Accuracy: 0.555800\n",
      "Epoch  7, CIFAR-10 Batch 4:  Loss:     1.0873 Validation Accuracy: 0.566200\n",
      "Epoch  7, CIFAR-10 Batch 5:  Loss:     1.0421 Validation Accuracy: 0.553600\n",
      "Epoch  8, CIFAR-10 Batch 1:  Loss:     1.2195 Validation Accuracy: 0.565200\n",
      "Epoch  8, CIFAR-10 Batch 2:  Loss:     1.0663 Validation Accuracy: 0.578600\n",
      "Epoch  8, CIFAR-10 Batch 3:  Loss:     0.9006 Validation Accuracy: 0.569200\n",
      "Epoch  8, CIFAR-10 Batch 4:  Loss:     1.0039 Validation Accuracy: 0.572000\n",
      "Epoch  8, CIFAR-10 Batch 5:  Loss:     1.0328 Validation Accuracy: 0.555200\n",
      "Epoch  9, CIFAR-10 Batch 1:  Loss:     1.1382 Validation Accuracy: 0.585200\n",
      "Epoch  9, CIFAR-10 Batch 2:  Loss:     1.0801 Validation Accuracy: 0.576000\n",
      "Epoch  9, CIFAR-10 Batch 3:  Loss:     0.8194 Validation Accuracy: 0.578400\n",
      "Epoch  9, CIFAR-10 Batch 4:  Loss:     0.9946 Validation Accuracy: 0.575400\n",
      "Epoch  9, CIFAR-10 Batch 5:  Loss:     1.0244 Validation Accuracy: 0.550800\n",
      "Epoch 10, CIFAR-10 Batch 1:  Loss:     1.0701 Validation Accuracy: 0.575200\n",
      "Epoch 10, CIFAR-10 Batch 2:  Loss:     1.0838 Validation Accuracy: 0.580000\n",
      "Epoch 10, CIFAR-10 Batch 3:  Loss:     0.8624 Validation Accuracy: 0.568000\n",
      "Epoch 10, CIFAR-10 Batch 4:  Loss:     0.8903 Validation Accuracy: 0.587000\n",
      "Epoch 10, CIFAR-10 Batch 5:  Loss:     0.9667 Validation Accuracy: 0.569800\n",
      "Epoch 11, CIFAR-10 Batch 1:  Loss:     0.9941 Validation Accuracy: 0.598800\n",
      "Epoch 11, CIFAR-10 Batch 2:  Loss:     1.0175 Validation Accuracy: 0.578600\n",
      "Epoch 11, CIFAR-10 Batch 3:  Loss:     0.7571 Validation Accuracy: 0.581600\n",
      "Epoch 11, CIFAR-10 Batch 4:  Loss:     0.8807 Validation Accuracy: 0.570800\n",
      "Epoch 11, CIFAR-10 Batch 5:  Loss:     0.9272 Validation Accuracy: 0.586000\n",
      "Epoch 12, CIFAR-10 Batch 1:  Loss:     0.9662 Validation Accuracy: 0.590000\n",
      "Epoch 12, CIFAR-10 Batch 2:  Loss:     1.0320 Validation Accuracy: 0.588400\n",
      "Epoch 12, CIFAR-10 Batch 3:  Loss:     0.7381 Validation Accuracy: 0.584000\n",
      "Epoch 12, CIFAR-10 Batch 4:  Loss:     0.8132 Validation Accuracy: 0.580600\n",
      "Epoch 12, CIFAR-10 Batch 5:  Loss:     0.8802 Validation Accuracy: 0.584000\n",
      "Epoch 13, CIFAR-10 Batch 1:  Loss:     0.8517 Validation Accuracy: 0.598800\n",
      "Epoch 13, CIFAR-10 Batch 2:  Loss:     0.9748 Validation Accuracy: 0.598600\n",
      "Epoch 13, CIFAR-10 Batch 3:  Loss:     0.7167 Validation Accuracy: 0.593000\n",
      "Epoch 13, CIFAR-10 Batch 4:  Loss:     0.8246 Validation Accuracy: 0.600400\n",
      "Epoch 13, CIFAR-10 Batch 5:  Loss:     0.8573 Validation Accuracy: 0.582800\n",
      "Epoch 14, CIFAR-10 Batch 1:  Loss:     0.8422 Validation Accuracy: 0.595400\n",
      "Epoch 14, CIFAR-10 Batch 2:  Loss:     0.9185 Validation Accuracy: 0.594400\n",
      "Epoch 14, CIFAR-10 Batch 3:  Loss:     0.7147 Validation Accuracy: 0.596000\n",
      "Epoch 14, CIFAR-10 Batch 4:  Loss:     0.7959 Validation Accuracy: 0.607400\n",
      "Epoch 14, CIFAR-10 Batch 5:  Loss:     0.8679 Validation Accuracy: 0.574800\n",
      "Epoch 15, CIFAR-10 Batch 1:  Loss:     0.8040 Validation Accuracy: 0.599400\n",
      "Epoch 15, CIFAR-10 Batch 2:  Loss:     0.8787 Validation Accuracy: 0.605600\n",
      "Epoch 15, CIFAR-10 Batch 3:  Loss:     0.6347 Validation Accuracy: 0.606400\n",
      "Epoch 15, CIFAR-10 Batch 4:  Loss:     0.7698 Validation Accuracy: 0.602200\n",
      "Epoch 15, CIFAR-10 Batch 5:  Loss:     0.8141 Validation Accuracy: 0.594600\n",
      "Epoch 16, CIFAR-10 Batch 1:  Loss:     0.7998 Validation Accuracy: 0.605800\n",
      "Epoch 16, CIFAR-10 Batch 2:  Loss:     0.9228 Validation Accuracy: 0.586400\n",
      "Epoch 16, CIFAR-10 Batch 3:  Loss:     0.6594 Validation Accuracy: 0.606600\n",
      "Epoch 16, CIFAR-10 Batch 4:  Loss:     0.6824 Validation Accuracy: 0.611600\n",
      "Epoch 16, CIFAR-10 Batch 5:  Loss:     0.8102 Validation Accuracy: 0.600000\n",
      "Epoch 17, CIFAR-10 Batch 1:  Loss:     0.7530 Validation Accuracy: 0.611800\n",
      "Epoch 17, CIFAR-10 Batch 2:  Loss:     0.8698 Validation Accuracy: 0.598200\n",
      "Epoch 17, CIFAR-10 Batch 3:  Loss:     0.6250 Validation Accuracy: 0.607800\n",
      "Epoch 17, CIFAR-10 Batch 4:  Loss:     0.6779 Validation Accuracy: 0.613200\n",
      "Epoch 17, CIFAR-10 Batch 5:  Loss:     0.7414 Validation Accuracy: 0.608000\n",
      "Epoch 18, CIFAR-10 Batch 1:  Loss:     0.7157 Validation Accuracy: 0.608400\n",
      "Epoch 18, CIFAR-10 Batch 2:  Loss:     0.7975 Validation Accuracy: 0.594600\n",
      "Epoch 18, CIFAR-10 Batch 3:  Loss:     0.6007 Validation Accuracy: 0.613600\n",
      "Epoch 18, CIFAR-10 Batch 4:  Loss:     0.6565 Validation Accuracy: 0.617600\n",
      "Epoch 18, CIFAR-10 Batch 5:  Loss:     0.7796 Validation Accuracy: 0.608400\n",
      "Epoch 19, CIFAR-10 Batch 1:  Loss:     0.7189 Validation Accuracy: 0.609800\n",
      "Epoch 19, CIFAR-10 Batch 2:  Loss:     0.7444 Validation Accuracy: 0.603400\n",
      "Epoch 19, CIFAR-10 Batch 3:  Loss:     0.5863 Validation Accuracy: 0.617400\n",
      "Epoch 19, CIFAR-10 Batch 4:  Loss:     0.6143 Validation Accuracy: 0.619000\n",
      "Epoch 19, CIFAR-10 Batch 5:  Loss:     0.6842 Validation Accuracy: 0.612800\n",
      "Epoch 20, CIFAR-10 Batch 1:  Loss:     0.7099 Validation Accuracy: 0.605200\n",
      "Epoch 20, CIFAR-10 Batch 2:  Loss:     0.7425 Validation Accuracy: 0.609200\n",
      "Epoch 20, CIFAR-10 Batch 3:  Loss:     0.5261 Validation Accuracy: 0.624800\n",
      "Epoch 20, CIFAR-10 Batch 4:  Loss:     0.5740 Validation Accuracy: 0.622400\n",
      "Epoch 20, CIFAR-10 Batch 5:  Loss:     0.6379 Validation Accuracy: 0.619000\n",
      "Epoch 21, CIFAR-10 Batch 1:  Loss:     0.7094 Validation Accuracy: 0.615600\n",
      "Epoch 21, CIFAR-10 Batch 2:  Loss:     0.6831 Validation Accuracy: 0.614400\n",
      "Epoch 21, CIFAR-10 Batch 3:  Loss:     0.5388 Validation Accuracy: 0.621200\n",
      "Epoch 21, CIFAR-10 Batch 4:  Loss:     0.5834 Validation Accuracy: 0.620400\n",
      "Epoch 21, CIFAR-10 Batch 5:  Loss:     0.6433 Validation Accuracy: 0.618800\n",
      "Epoch 22, CIFAR-10 Batch 1:  Loss:     0.7010 Validation Accuracy: 0.610400\n",
      "Epoch 22, CIFAR-10 Batch 2:  Loss:     0.7302 Validation Accuracy: 0.624000\n",
      "Epoch 22, CIFAR-10 Batch 3:  Loss:     0.5369 Validation Accuracy: 0.617200\n",
      "Epoch 22, CIFAR-10 Batch 4:  Loss:     0.5884 Validation Accuracy: 0.628600\n",
      "Epoch 22, CIFAR-10 Batch 5:  Loss:     0.6289 Validation Accuracy: 0.621600\n",
      "Epoch 23, CIFAR-10 Batch 1:  Loss:     0.6914 Validation Accuracy: 0.608600\n",
      "Epoch 23, CIFAR-10 Batch 2:  Loss:     0.6524 Validation Accuracy: 0.616200\n",
      "Epoch 23, CIFAR-10 Batch 3:  Loss:     0.5203 Validation Accuracy: 0.625200\n",
      "Epoch 23, CIFAR-10 Batch 4:  Loss:     0.5924 Validation Accuracy: 0.620400\n",
      "Epoch 23, CIFAR-10 Batch 5:  Loss:     0.5976 Validation Accuracy: 0.630400\n",
      "Epoch 24, CIFAR-10 Batch 1:  Loss:     0.6722 Validation Accuracy: 0.614000\n",
      "Epoch 24, CIFAR-10 Batch 2:  Loss:     0.6762 Validation Accuracy: 0.618800\n",
      "Epoch 24, CIFAR-10 Batch 3:  Loss:     0.4865 Validation Accuracy: 0.626000\n",
      "Epoch 24, CIFAR-10 Batch 4:  Loss:     0.5564 Validation Accuracy: 0.626400\n",
      "Epoch 24, CIFAR-10 Batch 5:  Loss:     0.6079 Validation Accuracy: 0.622800\n",
      "Epoch 25, CIFAR-10 Batch 1:  Loss:     0.6699 Validation Accuracy: 0.607800\n",
      "Epoch 25, CIFAR-10 Batch 2:  Loss:     0.6241 Validation Accuracy: 0.623600\n",
      "Epoch 25, CIFAR-10 Batch 3:  Loss:     0.4618 Validation Accuracy: 0.629600\n",
      "Epoch 25, CIFAR-10 Batch 4:  Loss:     0.5017 Validation Accuracy: 0.630600\n",
      "Epoch 25, CIFAR-10 Batch 5:  Loss:     0.5798 Validation Accuracy: 0.619200\n",
      "Epoch 26, CIFAR-10 Batch 1:  Loss:     0.6354 Validation Accuracy: 0.629400\n",
      "Epoch 26, CIFAR-10 Batch 2:  Loss:     0.6281 Validation Accuracy: 0.630400\n",
      "Epoch 26, CIFAR-10 Batch 3:  Loss:     0.4805 Validation Accuracy: 0.628800\n",
      "Epoch 26, CIFAR-10 Batch 4:  Loss:     0.4632 Validation Accuracy: 0.628800\n",
      "Epoch 26, CIFAR-10 Batch 5:  Loss:     0.5813 Validation Accuracy: 0.631800\n",
      "Epoch 27, CIFAR-10 Batch 1:  Loss:     0.6471 Validation Accuracy: 0.628800\n",
      "Epoch 27, CIFAR-10 Batch 2:  Loss:     0.5596 Validation Accuracy: 0.616800\n",
      "Epoch 27, CIFAR-10 Batch 3:  Loss:     0.4156 Validation Accuracy: 0.635400\n",
      "Epoch 27, CIFAR-10 Batch 4:  Loss:     0.4351 Validation Accuracy: 0.638000\n",
      "Epoch 27, CIFAR-10 Batch 5:  Loss:     0.5342 Validation Accuracy: 0.627400\n",
      "Epoch 28, CIFAR-10 Batch 1:  Loss:     0.5520 Validation Accuracy: 0.628400\n",
      "Epoch 28, CIFAR-10 Batch 2:  Loss:     0.5691 Validation Accuracy: 0.625400\n",
      "Epoch 28, CIFAR-10 Batch 3:  Loss:     0.4391 Validation Accuracy: 0.629400\n",
      "Epoch 28, CIFAR-10 Batch 4:  Loss:     0.4073 Validation Accuracy: 0.627400\n",
      "Epoch 28, CIFAR-10 Batch 5:  Loss:     0.5096 Validation Accuracy: 0.634000\n",
      "Epoch 29, CIFAR-10 Batch 1:  Loss:     0.5689 Validation Accuracy: 0.630800\n",
      "Epoch 29, CIFAR-10 Batch 2:  Loss:     0.5385 Validation Accuracy: 0.625200\n",
      "Epoch 29, CIFAR-10 Batch 3:  Loss:     0.4600 Validation Accuracy: 0.630400\n",
      "Epoch 29, CIFAR-10 Batch 4:  Loss:     0.4954 Validation Accuracy: 0.612000\n",
      "Epoch 29, CIFAR-10 Batch 5:  Loss:     0.4654 Validation Accuracy: 0.636200\n",
      "Epoch 30, CIFAR-10 Batch 1:  Loss:     0.5684 Validation Accuracy: 0.624400\n",
      "Epoch 30, CIFAR-10 Batch 2:  Loss:     0.5571 Validation Accuracy: 0.627000\n",
      "Epoch 30, CIFAR-10 Batch 3:  Loss:     0.4563 Validation Accuracy: 0.621000\n",
      "Epoch 30, CIFAR-10 Batch 4:  Loss:     0.3902 Validation Accuracy: 0.619400\n",
      "Epoch 30, CIFAR-10 Batch 5:  Loss:     0.5037 Validation Accuracy: 0.634600\n"
     ]
    }
   ],
   "source": [
    "\"\"\"\n",
    "DON'T MODIFY ANYTHING IN THIS CELL\n",
    "\"\"\"\n",
    "save_model_path = './image_classification'\n",
    "\n",
    "print('Training...')\n",
    "with tf.Session() as sess:\n",
    "    # Initializing the variables\n",
    "    sess.run(tf.global_variables_initializer())\n",
    "    \n",
    "    # Training cycle\n",
    "    for epoch in range(epochs):\n",
    "        # Loop over all batches\n",
    "        n_batches = 5\n",
    "        for batch_i in range(1, n_batches + 1):\n",
    "            for batch_features, batch_labels in helper.load_preprocess_training_batch(batch_i, batch_size):\n",
    "                train_neural_network(sess, optimizer, keep_probability, batch_features, batch_labels)\n",
    "            print('Epoch {:>2}, CIFAR-10 Batch {}:  '.format(epoch + 1, batch_i), end='')\n",
    "            print_stats(sess, batch_features, batch_labels, cost, accuracy)\n",
    "            \n",
    "    # Save Model\n",
    "    saver = tf.train.Saver()\n",
    "    save_path = saver.save(sess, save_model_path)"
   ]
  },
  {
   "cell_type": "markdown",
   "metadata": {},
   "source": [
    "# Checkpoint\n",
    "The model has been saved to disk.\n",
    "## Test Model\n",
    "Test your model against the test dataset.  This will be your final accuracy. You should have an accuracy greater than 50%. If you don't, keep tweaking the model architecture and parameters."
   ]
  },
  {
   "cell_type": "code",
   "execution_count": 280,
   "metadata": {
    "collapsed": false
   },
   "outputs": [
    {
     "name": "stdout",
     "output_type": "stream",
     "text": [
      "Testing Accuracy: 0.6306368670886076\n",
      "\n"
     ]
    },
    {
     "data": {
      "image/png": "[encoded data removed]",
      "text/plain": [
       "<matplotlib.figure.Figure at 0x213783e3e48>"
      ]
     },
     "metadata": {
      "image/png": {
       "height": 319,
       "width": 355
      }
     },
     "output_type": "display_data"
    }
   ],
   "source": [
    "\"\"\"\n",
    "DON'T MODIFY ANYTHING IN THIS CELL\n",
    "\"\"\"\n",
    "%matplotlib inline\n",
    "%config InlineBackend.figure_format = 'retina'\n",
    "\n",
    "import tensorflow as tf\n",
    "import pickle\n",
    "import helper\n",
    "import random\n",
    "\n",
    "# Set batch size if not already set\n",
    "try:\n",
    "    if batch_size:\n",
    "        pass\n",
    "except NameError:\n",
    "    batch_size = 64\n",
    "\n",
    "save_model_path = './image_classification'\n",
    "n_samples = 4\n",
    "top_n_predictions = 3\n",
    "\n",
    "def test_model():\n",
    "    \"\"\"\n",
    "    Test the saved model against the test dataset\n",
    "    \"\"\"\n",
    "\n",
    "    test_features, test_labels = pickle.load(open('preprocess_training.p', mode='rb'))\n",
    "    loaded_graph = tf.Graph()\n",
    "\n",
    "    with tf.Session(graph=loaded_graph) as sess:\n",
    "        # Load model\n",
    "        loader = tf.train.import_meta_graph(save_model_path + '.meta')\n",
    "        loader.restore(sess, save_model_path)\n",
    "\n",
    "        # Get Tensors from loaded model\n",
    "        loaded_x = loaded_graph.get_tensor_by_name('x:0')\n",
    "        loaded_y = loaded_graph.get_tensor_by_name('y:0')\n",
    "        loaded_keep_prob = loaded_graph.get_tensor_by_name('keep_prob:0')\n",
    "        loaded_logits = loaded_graph.get_tensor_by_name('logits:0')\n",
    "        loaded_acc = loaded_graph.get_tensor_by_name('accuracy:0')\n",
    "        \n",
    "        # Get accuracy in batches for memory limitations\n",
    "        test_batch_acc_total = 0\n",
    "        test_batch_count = 0\n",
    "        \n",
    "        for train_feature_batch, train_label_batch in helper.batch_features_labels(test_features, test_labels, batch_size):\n",
    "            test_batch_acc_total += sess.run(\n",
    "                loaded_acc,\n",
    "                feed_dict={loaded_x: train_feature_batch, loaded_y: train_label_batch, loaded_keep_prob: 1.0})\n",
    "            test_batch_count += 1\n",
    "\n",
    "        print('Testing Accuracy: {}\\n'.format(test_batch_acc_total/test_batch_count))\n",
    "\n",
    "        # Print Random Samples\n",
    "        random_test_features, random_test_labels = tuple(zip(*random.sample(list(zip(test_features, test_labels)), n_samples)))\n",
    "        random_test_predictions = sess.run(\n",
    "            tf.nn.top_k(tf.nn.softmax(loaded_logits), top_n_predictions),\n",
    "            feed_dict={loaded_x: random_test_features, loaded_y: random_test_labels, loaded_keep_prob: 1.0})\n",
    "        helper.display_image_predictions(random_test_features, random_test_labels, random_test_predictions)\n",
    "\n",
    "\n",
    "test_model()"
   ]
  },
  {
   "cell_type": "markdown",
   "metadata": {},
   "source": [
    "## Why 50-70% Accuracy?\n",
    "You might be wondering why you can't get an accuracy any higher. First things first, 50% isn't bad for a simple CNN.  Pure guessing would get you 10% accuracy. However, you might notice people are getting scores [well above 70%](http://rodrigob.github.io/are_we_there_yet/build/classification_datasets_results.html#43494641522d3130).  That's because we haven't taught you all there is to know about neural networks. We still need to cover a few more techniques.\n",
    "## Submitting This Project\n",
    "When submitting this project, make sure to run all the cells before saving the notebook.  Save the notebook file as \"dlnd_image_classification.ipynb\" and save it as a HTML file under \"File\" -> \"Download as\".  Include the \"helper.py\" and \"problem_unittests.py\" files in your submission."
   ]
  }
 ],
 "metadata": {
  "anaconda-cloud": {},
  "kernelspec": {
   "display_name": "Python 3",
   "language": "python",
   "name": "python3"
  },
  "language_info": {
   "codemirror_mode": {
    "name": "ipython",
    "version": 3
   },
   "file_extension": ".py",
   "mimetype": "text/x-python",
   "name": "python",
   "nbconvert_exporter": "python",
   "pygments_lexer": "ipython3",
   "version": "3.5.2"
  }
 },
 "nbformat": 4,
 "nbformat_minor": 0
}
